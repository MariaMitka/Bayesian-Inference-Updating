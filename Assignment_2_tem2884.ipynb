{
  "nbformat": 4,
  "nbformat_minor": 0,
  "metadata": {
    "colab": {
      "provenance": [],
      "authorship_tag": "ABX9TyNqMCJXjnkLy6hJcdIVar+v",
      "include_colab_link": true
    },
    "kernelspec": {
      "name": "python3",
      "display_name": "Python 3"
    },
    "language_info": {
      "name": "python"
    }
  },
  "cells": [
    {
      "cell_type": "markdown",
      "metadata": {
        "id": "view-in-github",
        "colab_type": "text"
      },
      "source": [
        "<a href=\"https://colab.research.google.com/github/MariaMitka/Bayesian-Inference-Updating/blob/main/Assignment_2_tem2884.ipynb\" target=\"_parent\"><img src=\"https://colab.research.google.com/assets/colab-badge.svg\" alt=\"Open In Colab\"/></a>"
      ]
    },
    {
      "cell_type": "markdown",
      "source": [
        "Data – Part A: A new medical test has been developed to detect a rare disease. The disease affects approximately\n",
        "1 in 10,000 people in the general population. The sensitivity of the test is = 78%, specificity of the test = 89% .\n",
        "\n",
        "Equation – Part A: For Part A, you should use the equation 1, where Test positive (T\n",
        "+), Test negative (T\n",
        "−),\n",
        "Disease present (D+), Disease absent (D−).\n",
        "\n",
        "Questions:\n",
        "1. Implement a function that takes as input the sensitivity, the specificity of a test and the prior probability of\n",
        "having a disease and returns the posterior probability of having that disease given that a person was tested\n",
        "positive.\n"
      ],
      "metadata": {
        "id": "Z_BsEJ6hwAJU"
      }
    },
    {
      "cell_type": "code",
      "source": [
        "sen = 0.78 #sensitivity\n",
        "spec = 0.89  #specific\n",
        "pr = 0.0001 #prior probability\n",
        "\n",
        "def f(sen, spec, pr):\n",
        "\n",
        "    prob_pos = sen * pr + (1-spec) * (1-pr)  #pithanotita toy posterior P(T+|D+)P(D+)+P(T+|D-)P(D-)\n",
        "    posterior = (sen * pr)/ prob_pos\n",
        "    return posterior\n",
        "\n",
        "print(f\"Η εκ των υστερων πιθανοτητα μετά το 1ο τεστ ειναι: {f(sen, spec, pr):.6f} \")"
      ],
      "metadata": {
        "colab": {
          "base_uri": "https://localhost:8080/"
        },
        "id": "KKCtTW6twVcg",
        "outputId": "0632a954-fde5-4f3f-9957-cb1e8bc06db7"
      },
      "execution_count": null,
      "outputs": [
        {
          "output_type": "stream",
          "name": "stdout",
          "text": [
            "Η εκ των υστερων πιθανοτητα μετά το 1ο τεστ ειναι: 0.000709 \n"
          ]
        }
      ]
    },
    {
      "cell_type": "markdown",
      "source": [
        "2. Calculate the probability that that person actually has the disease.\n",
        "3. Save and print the posterior probability of that person having the disease, given that another test has been\n",
        "done and it turned out to be positive.\n"
      ],
      "metadata": {
        "id": "QKfB5AZQw46j"
      }
    },
    {
      "cell_type": "code",
      "source": [
        "def d(sen, spec, post):\n",
        "    prob_pos = sen * post + (1-spec) * (1-post)\n",
        "    s_p = (sen * post) / prob_pos\n",
        "    return s_p\n",
        "\n",
        "second_posterior = d(sen, spec, f(sen, spec, pr))\n",
        "print(f\"Η εκ των υστερων πιθανοτητα μετά το 2ο τεστ ειναι: {second_posterior:.6f}\")"
      ],
      "metadata": {
        "colab": {
          "base_uri": "https://localhost:8080/"
        },
        "id": "tQ5uMMQhw6HD",
        "outputId": "37a7c08b-588d-4048-c429-8897a0597dea"
      },
      "execution_count": null,
      "outputs": [
        {
          "output_type": "stream",
          "name": "stdout",
          "text": [
            "Η εκ των υστερων πιθανοτητα μετά το 2ο τεστ ειναι: 0.005003\n"
          ]
        }
      ]
    },
    {
      "cell_type": "markdown",
      "source": [
        "4. Compute the probability of that person actually having the disease (use the first posterior you computed),\n",
        "for each one of the following cases: when the total cases are (a) 2 million, (b) 7.5 million, (c) 1 billion."
      ],
      "metadata": {
        "id": "4Gosrlssyqz3"
      }
    },
    {
      "cell_type": "code",
      "source": [
        "N= [2000000, 7500000, 1000000000]\n",
        "for n in N:\n",
        "    pop = int(n * f(sen, spec, pr))\n",
        "    print(f\"Σε {n} ατομα πληθυσμο, {pop} ατομα εχουν την ασθενεια\")"
      ],
      "metadata": {
        "colab": {
          "base_uri": "https://localhost:8080/"
        },
        "id": "r9VHsysizISQ",
        "outputId": "7085ac56-8af3-4a1f-8429-415236361331"
      },
      "execution_count": null,
      "outputs": [
        {
          "output_type": "stream",
          "name": "stdout",
          "text": [
            "Σε 2000000 ατομα πληθυσμο, 1417 ατομα εχουν την ασθενεια\n",
            "Σε 7500000 ατομα πληθυσμο, 5314 ατομα εχουν την ασθενεια\n",
            "Σε 1000000000 ατομα πληθυσμο, 708659 ατομα εχουν την ασθενεια\n"
          ]
        }
      ]
    },
    {
      "cell_type": "markdown",
      "source": [
        "5. Briefly explain how/why the posterior probability of actually having the disease, given that you tested positive,\n",
        "is affected by the prior."
      ],
      "metadata": {
        "id": "526GmZKB2n4c"
      }
    },
    {
      "cell_type": "markdown",
      "source": [
        "Η εκ των υστέρων πιθανότητα\n",
        " $$P(D+|T+)$$\n",
        "  υπολογίζεται από τον τύπο του Bayes:\n",
        "$$\n",
        "P(D⁺ | T⁺) = \\frac{P(T⁺ | D⁺) \\cdot P(D⁺)}{P(T⁺)}\n",
        "$$\n",
        "\n",
        "Εφ'όσον η αρχική πιθανότητα P(T+) βρίσκεται στον αριθμητή θα επηρεάζει το τελικό αποτέλεσμα κι έτσι όταν μια ασθένεια είναι σπάνια, ακόμα κι αν το τεστ είναι καλό, τα περισσότερα θετικά αποτελέσματα θα είναι ψευδή γιατί υπάρχουν πολύ περισσότεροι υγιείς άνθρωποι που μπορεί να βγουν λάθος θετικοί. 'Οταν μια ασθένεια είναι πιο συχνή, το θετικό τεστ είναι πολύ πιο πιθανό να είναι σωστό γιατί υπάρχουν πολλοί περισσότεροι πραγματικά άρρωστοι."
      ],
      "metadata": {
        "id": "yNkGKk5z2xgk"
      }
    },
    {
      "cell_type": "markdown",
      "source": [
        "Part B: Startup Company\n",
        "\n",
        "A start-up company just received huge funding, and its boss is so happy that he decided to give each of them a\n",
        "day off in a time window of 40 days. The company’s employees are 20 in number (E1, E2, . . . , E20) and are all in a\n",
        "conference room ready to select their one day off. Each has to select a number between 1 and 40, independently,\n",
        "without knowing which number the other employee selects.\n",
        "\n",
        "Questions : Probabilities\n",
        "\n",
        "1. Compute the probability that one employer will pick the number n ∈ [1, 40] (e.g. n = 5), a specific number.\n"
      ],
      "metadata": {
        "id": "SpLSU8yJ4rC6"
      }
    },
    {
      "cell_type": "code",
      "source": [
        "##ΠΙΘΑΝΟΤΗΤΕΣ : ΕΡΩΤΗΣΕΙΣ\n",
        "\n",
        "p = 1\n",
        "n=40\n",
        "\n",
        "P_A1 = 1/n  #pithanotita na epilexthei mia tyxaia mera\n",
        "print(f\"Η πιθανοτητα ενας εργαζομενος να επιλεξει εναν αριθμο απο 1 εως 40: {P_A1}\")"
      ],
      "metadata": {
        "colab": {
          "base_uri": "https://localhost:8080/"
        },
        "id": "DHTAMEYs5Ejc",
        "outputId": "29eb3515-d1a3-4476-e657-56f3a1407f6a"
      },
      "execution_count": null,
      "outputs": [
        {
          "output_type": "stream",
          "name": "stdout",
          "text": [
            "Η πιθανοτητα ενας εργαζομενος να επιλεξει εναν αριθμο απο 1 εως 40: 0.025\n"
          ]
        }
      ]
    },
    {
      "cell_type": "markdown",
      "source": [
        "2. Compute the probability of 2 employers picking the same number.\n"
      ],
      "metadata": {
        "id": "040rTSAP5Mkn"
      }
    },
    {
      "cell_type": "code",
      "source": [
        "P_A2 = p * (1-(n-1)/n)\n",
        "print(f\"Η πιθανοτητα δυο εργαζομενοι να επιλεξουν τον ιδιο αριθμο απο 1 εως 40: {P_A2:.5f}\")"
      ],
      "metadata": {
        "colab": {
          "base_uri": "https://localhost:8080/"
        },
        "id": "njaNGvmk5RiF",
        "outputId": "1ed1d9f3-5844-4213-bb9b-8d44245d9d8e"
      },
      "execution_count": null,
      "outputs": [
        {
          "output_type": "stream",
          "name": "stdout",
          "text": [
            "Η πιθανοτητα δυο εργαζομενοι να επιλεξουν τον ιδιο αριθμο απο 1 εως 40: 0.02500\n"
          ]
        }
      ]
    },
    {
      "cell_type": "markdown",
      "source": [
        "3. Compute the probability of 2 employees picking a different number.\n",
        "4. Compute the probability of 3 employees picking a different number.\n",
        "5. Implement a function to compute the probability that all employees will select different numbers. The\n",
        "function should have as input the total number (m) of people in the room (m = 20 in our case) and return\n",
        "the probability. Again, each employ is equally likely to select any number of the 40, regardless of the choice\n",
        "of the others."
      ],
      "metadata": {
        "id": "Vn58zNmh5k9X"
      }
    },
    {
      "cell_type": "code",
      "source": [
        "def prob_questions(m, n=40):\n",
        "    p=1\n",
        "\n",
        "    for i in range(m):\n",
        "        p *= (1.0 - i/n)\n",
        "    return p\n",
        "\n",
        "\n",
        "prob_3 = prob_questions(2, 40)\n",
        "prob_4 = prob_questions(3, 40)\n",
        "prob_5 = prob_questions(20,40)\n",
        "\n",
        "print(f\"Πιθανοτητα για 2 εργαζομενους να διαλεξουν διαφορετικο αριθμο: {prob_3:.5f}\")\n",
        "print(f\"Πιθανοτητα για 3 εργαζομενους να διαλεξουν διαφορετικο αριθμο: {prob_4:.5f}\")\n",
        "print(f\"Πιθανοτητα για 20 εργαζομενους να διαλεξουν διαφορετικο αριθμο: {prob_5:.5f}\")"
      ],
      "metadata": {
        "colab": {
          "base_uri": "https://localhost:8080/"
        },
        "id": "h-pekpDQ5mO6",
        "outputId": "96a14dcf-134c-47a7-be0a-9c33e46f05cc"
      },
      "execution_count": null,
      "outputs": [
        {
          "output_type": "stream",
          "name": "stdout",
          "text": [
            "Πιθανοτητα για 2 εργαζομενους να διαλεξουν διαφορετικο αριθμο: 0.97500\n",
            "Πιθανοτητα για 3 εργαζομενους να διαλεξουν διαφορετικο αριθμο: 0.92625\n",
            "Πιθανοτητα για 20 εργαζομενους να διαλεξουν διαφορετικο αριθμο: 0.00305\n"
          ]
        }
      ]
    },
    {
      "cell_type": "markdown",
      "source": [
        "6. Using the previous function, plot the probability of all employees selecting different numbers as a function of\n",
        "the number of employees. The x-axis should represent the number of employees. The y-axis should represent\n",
        "the probability of all employees having unique selections. Explain the results.\n"
      ],
      "metadata": {
        "id": "lgzYgKQk5uV2"
      }
    },
    {
      "cell_type": "code",
      "source": [
        "import matplotlib.pyplot as plt\n",
        "\n",
        "ergazomenoi = list(range(1,21))\n",
        "probabilities = [prob_questions(m, 40) for m in ergazomenoi]\n",
        "\n",
        "\n",
        "plt.figure(figsize=(10,5))\n",
        "plt.plot(ergazomenoi, probabilities, marker='o', linestyle='-')\n",
        "plt.xlabel(\" αριθμος εργαζομενων \")\n",
        "plt.ylabel(\" πιθανοτητα διαφορετικων αριθμων \")\n",
        "plt.title(\" Πιθανοτητα να επιλεξουν διαφορετικο αριθμο \")\n",
        "plt.xticks(ergazomenoi)\n",
        "plt.show()"
      ],
      "metadata": {
        "colab": {
          "base_uri": "https://localhost:8080/",
          "height": 487
        },
        "id": "P1mWEtpp5y4p",
        "outputId": "b01a190c-6f90-4b45-ecbd-791efed547ad"
      },
      "execution_count": null,
      "outputs": [
        {
          "output_type": "display_data",
          "data": {
            "text/plain": [
              "<Figure size 1000x500 with 1 Axes>"
            ],
            "image/png": "[encoded data removed]"
          },
          "metadata": {}
        }
      ]
    },
    {
      "cell_type": "markdown",
      "source": [
        "Επεξηγηση:\n",
        "\n",
        "Το γράφημα μας δίνει μια φθίνουσα καμπύλη. Αυτό μας δείχνει πως για μικρό αριθμό εργαζομένων η πιθανότητα να διαλέξουν όλοι διαφορετική ημέρα είναι πολύ υψηλή καθώς έχουν περισσότερες επιλογές. Αντίθετα, όταν μεγαλώνει ο αριθμός των εργαζομένων η πιθανότητα αυτή μειώνεται αισθητά."
      ],
      "metadata": {
        "id": "ujEFIDA-8zYj"
      }
    },
    {
      "cell_type": "markdown",
      "source": [
        "Each employee has selected the day-offs and their are all happy. Now, the boss of the above startup company,\n",
        "which has a really nice sense of humor, decides to select a number, as he was one of the employees. If an employee\n",
        "guess correctly this number that his boss picked, the lucky employee takes a second day-off in a row! If the\n",
        "employee’s answer is wrong, then the boss says either smaller (’S’) or greater (’G’), depending on the number he\n",
        "has in his mind is smaller or greater to the one that one employee said. Each employee is able to listen what the\n",
        "previous employee guessed, in order to find their boss selected number.\n",
        "Each employee guesses independently (but in public), one at a time, and the boss will indicate if their guess is\n",
        "smaller, greater, or correct. After each guess, the probability distribution of the boss’s number is updated using\n",
        "Bayesian updating.\n",
        "\n",
        "• Number of employees: 20 employees.\n",
        "\n",
        "• Available numbers: The numbers range from 1 to 40.\n",
        "\n",
        "• Boss’s number: The boss’s number is hidden, and all employees are guessing what it might be.\n",
        "\n",
        "• Feedback: The boss gives one of the following responses after each employee guesses:\n",
        "\n",
        "– Smaller: If the boss’s number is smaller than the employee’s guess.\n",
        "\n",
        "– Greater: If the boss’s number is greater than the employee’s guess.\n",
        "\n",
        "– Correct: If the employee guesses the correct number.\n",
        "\n",
        "• Initial Belief: Each employee starts with the belief that the boss’s number is equally likely to be any number\n",
        "between 1 and 40 (uniform prior).\n",
        "\n",
        "• Observations: After each employee’s guess, the boss gives feedback about whether the guess was too high\n",
        "or too low (or correct).\n",
        "\n",
        "• Boss answers: S S S G S G G S G G S S G S S G G S S S\n",
        "\n",
        "Questions: Implementing Bayesian update\n",
        "1. Implement a function to compute the probability distribution for the boss’s number being a specific value x,\n",
        "given a sequence of observed guesses and feedback (after each employee’s guess). Follow the steps below:\n",
        "\n",
        "(a) Compute the probability of a single guess being ”smaller” and ”greater”, given a guess x, where x is an\n",
        "integer x ∈ [1, 40].\n",
        "P(S|x) = ?, P(G|x) = ?. Write a simple function for each case, ”smaller” and ”greater”."
      ],
      "metadata": {
        "id": "o8IUTESyALNl"
      }
    },
    {
      "cell_type": "code",
      "source": [
        "import matplotlib.pyplot as plt\n",
        "from math import comb\n",
        "\n",
        "#h pithanotita na epileksei arithmo megalitero apo x einai o arithmos twn epilogwn poy einai megalyteres apo x dia to sinolo olon twn pithanwn epilogwn\n",
        "def P_S(x):\n",
        "    return (40 - x) / 40\n",
        "for x in range(1, 41):\n",
        "    print(f\"Η πιθανοτητα P(S|x) για x= {x}: ειναι {P_S(x):.10f}\")\n",
        "# h pithanotita na epileksei arithmo mikrotero apo x einai x-1 dia to sinolo olwn twn epilogwn\n",
        "def P_G(x):\n",
        "    return (x - 1) / 40\n",
        "for x in range(1, 41):\n",
        "    print(f\"Η πιθανοτητα P(G|x) για x= {x}: ειναι {P_G(x):.10f}\")"
      ],
      "metadata": {
        "colab": {
          "base_uri": "https://localhost:8080/"
        },
        "collapsed": true,
        "id": "INKdAkFhAtrt",
        "outputId": "d48743e7-dd36-431a-f9f7-7dde6e08798c"
      },
      "execution_count": null,
      "outputs": [
        {
          "output_type": "stream",
          "name": "stdout",
          "text": [
            "Η πιθανοτητα P(S|x) για x= 1: ειναι 0.9750000000\n",
            "Η πιθανοτητα P(S|x) για x= 2: ειναι 0.9500000000\n",
            "Η πιθανοτητα P(S|x) για x= 3: ειναι 0.9250000000\n",
            "Η πιθανοτητα P(S|x) για x= 4: ειναι 0.9000000000\n",
            "Η πιθανοτητα P(S|x) για x= 5: ειναι 0.8750000000\n",
            "Η πιθανοτητα P(S|x) για x= 6: ειναι 0.8500000000\n",
            "Η πιθανοτητα P(S|x) για x= 7: ειναι 0.8250000000\n",
            "Η πιθανοτητα P(S|x) για x= 8: ειναι 0.8000000000\n",
            "Η πιθανοτητα P(S|x) για x= 9: ειναι 0.7750000000\n",
            "Η πιθανοτητα P(S|x) για x= 10: ειναι 0.7500000000\n",
            "Η πιθανοτητα P(S|x) για x= 11: ειναι 0.7250000000\n",
            "Η πιθανοτητα P(S|x) για x= 12: ειναι 0.7000000000\n",
            "Η πιθανοτητα P(S|x) για x= 13: ειναι 0.6750000000\n",
            "Η πιθανοτητα P(S|x) για x= 14: ειναι 0.6500000000\n",
            "Η πιθανοτητα P(S|x) για x= 15: ειναι 0.6250000000\n",
            "Η πιθανοτητα P(S|x) για x= 16: ειναι 0.6000000000\n",
            "Η πιθανοτητα P(S|x) για x= 17: ειναι 0.5750000000\n",
            "Η πιθανοτητα P(S|x) για x= 18: ειναι 0.5500000000\n",
            "Η πιθανοτητα P(S|x) για x= 19: ειναι 0.5250000000\n",
            "Η πιθανοτητα P(S|x) για x= 20: ειναι 0.5000000000\n",
            "Η πιθανοτητα P(S|x) για x= 21: ειναι 0.4750000000\n",
            "Η πιθανοτητα P(S|x) για x= 22: ειναι 0.4500000000\n",
            "Η πιθανοτητα P(S|x) για x= 23: ειναι 0.4250000000\n",
            "Η πιθανοτητα P(S|x) για x= 24: ειναι 0.4000000000\n",
            "Η πιθανοτητα P(S|x) για x= 25: ειναι 0.3750000000\n",
            "Η πιθανοτητα P(S|x) για x= 26: ειναι 0.3500000000\n",
            "Η πιθανοτητα P(S|x) για x= 27: ειναι 0.3250000000\n",
            "Η πιθανοτητα P(S|x) για x= 28: ειναι 0.3000000000\n",
            "Η πιθανοτητα P(S|x) για x= 29: ειναι 0.2750000000\n",
            "Η πιθανοτητα P(S|x) για x= 30: ειναι 0.2500000000\n",
            "Η πιθανοτητα P(S|x) για x= 31: ειναι 0.2250000000\n",
            "Η πιθανοτητα P(S|x) για x= 32: ειναι 0.2000000000\n",
            "Η πιθανοτητα P(S|x) για x= 33: ειναι 0.1750000000\n",
            "Η πιθανοτητα P(S|x) για x= 34: ειναι 0.1500000000\n",
            "Η πιθανοτητα P(S|x) για x= 35: ειναι 0.1250000000\n",
            "Η πιθανοτητα P(S|x) για x= 36: ειναι 0.1000000000\n",
            "Η πιθανοτητα P(S|x) για x= 37: ειναι 0.0750000000\n",
            "Η πιθανοτητα P(S|x) για x= 38: ειναι 0.0500000000\n",
            "Η πιθανοτητα P(S|x) για x= 39: ειναι 0.0250000000\n",
            "Η πιθανοτητα P(S|x) για x= 40: ειναι 0.0000000000\n",
            "Η πιθανοτητα P(G|x) για x= 1: ειναι 0.0000000000\n",
            "Η πιθανοτητα P(G|x) για x= 2: ειναι 0.0250000000\n",
            "Η πιθανοτητα P(G|x) για x= 3: ειναι 0.0500000000\n",
            "Η πιθανοτητα P(G|x) για x= 4: ειναι 0.0750000000\n",
            "Η πιθανοτητα P(G|x) για x= 5: ειναι 0.1000000000\n",
            "Η πιθανοτητα P(G|x) για x= 6: ειναι 0.1250000000\n",
            "Η πιθανοτητα P(G|x) για x= 7: ειναι 0.1500000000\n",
            "Η πιθανοτητα P(G|x) για x= 8: ειναι 0.1750000000\n",
            "Η πιθανοτητα P(G|x) για x= 9: ειναι 0.2000000000\n",
            "Η πιθανοτητα P(G|x) για x= 10: ειναι 0.2250000000\n",
            "Η πιθανοτητα P(G|x) για x= 11: ειναι 0.2500000000\n",
            "Η πιθανοτητα P(G|x) για x= 12: ειναι 0.2750000000\n",
            "Η πιθανοτητα P(G|x) για x= 13: ειναι 0.3000000000\n",
            "Η πιθανοτητα P(G|x) για x= 14: ειναι 0.3250000000\n",
            "Η πιθανοτητα P(G|x) για x= 15: ειναι 0.3500000000\n",
            "Η πιθανοτητα P(G|x) για x= 16: ειναι 0.3750000000\n",
            "Η πιθανοτητα P(G|x) για x= 17: ειναι 0.4000000000\n",
            "Η πιθανοτητα P(G|x) για x= 18: ειναι 0.4250000000\n",
            "Η πιθανοτητα P(G|x) για x= 19: ειναι 0.4500000000\n",
            "Η πιθανοτητα P(G|x) για x= 20: ειναι 0.4750000000\n",
            "Η πιθανοτητα P(G|x) για x= 21: ειναι 0.5000000000\n",
            "Η πιθανοτητα P(G|x) για x= 22: ειναι 0.5250000000\n",
            "Η πιθανοτητα P(G|x) για x= 23: ειναι 0.5500000000\n",
            "Η πιθανοτητα P(G|x) για x= 24: ειναι 0.5750000000\n",
            "Η πιθανοτητα P(G|x) για x= 25: ειναι 0.6000000000\n",
            "Η πιθανοτητα P(G|x) για x= 26: ειναι 0.6250000000\n",
            "Η πιθανοτητα P(G|x) για x= 27: ειναι 0.6500000000\n",
            "Η πιθανοτητα P(G|x) για x= 28: ειναι 0.6750000000\n",
            "Η πιθανοτητα P(G|x) για x= 29: ειναι 0.7000000000\n",
            "Η πιθανοτητα P(G|x) για x= 30: ειναι 0.7250000000\n",
            "Η πιθανοτητα P(G|x) για x= 31: ειναι 0.7500000000\n",
            "Η πιθανοτητα P(G|x) για x= 32: ειναι 0.7750000000\n",
            "Η πιθανοτητα P(G|x) για x= 33: ειναι 0.8000000000\n",
            "Η πιθανοτητα P(G|x) για x= 34: ειναι 0.8250000000\n",
            "Η πιθανοτητα P(G|x) για x= 35: ειναι 0.8500000000\n",
            "Η πιθανοτητα P(G|x) για x= 36: ειναι 0.8750000000\n",
            "Η πιθανοτητα P(G|x) για x= 37: ειναι 0.9000000000\n",
            "Η πιθανοτητα P(G|x) για x= 38: ειναι 0.9250000000\n",
            "Η πιθανοτητα P(G|x) για x= 39: ειναι 0.9500000000\n",
            "Η πιθανοτητα P(G|x) για x= 40: ειναι 0.9750000000\n"
          ]
        }
      ]
    },
    {
      "cell_type": "markdown",
      "source": [
        "(b) Compute the probability that the first 5 guesses all resulted in ”smaller” feedback.\n",
        "P(S = 5, N = 5|x) = ?. Write a simple function."
      ],
      "metadata": {
        "id": "LYKwha_qBR-a"
      }
    },
    {
      "cell_type": "code",
      "source": [
        "def P_S(x):\n",
        "    return (40 - x) / 40\n",
        "\n",
        "def P_G(x):\n",
        "    return (x - 1) / 40\n",
        "\n",
        "def Pb(x):\n",
        "    return P_S(x) ** 5 #pb = P(S|X)^5\n",
        "for x in range(1, 41):\n",
        "    print(f\"Η πιθανοτητα P(S=5, N=5|x) για x= {x}: ειναι {Pb(x):.10f}\")"
      ],
      "metadata": {
        "colab": {
          "base_uri": "https://localhost:8080/"
        },
        "collapsed": true,
        "id": "9iQLryWtBXAE",
        "outputId": "de22d55d-91a8-4f26-df44-273bfe9cf564"
      },
      "execution_count": null,
      "outputs": [
        {
          "output_type": "stream",
          "name": "stdout",
          "text": [
            "Η πιθανοτητα P(S=5, N=5|x) για x= 1: ειναι 0.8810956934\n",
            "Η πιθανοτητα P(S=5, N=5|x) για x= 2: ειναι 0.7737809375\n",
            "Η πιθανοτητα P(S=5, N=5|x) για x= 3: ειναι 0.6771870801\n",
            "Η πιθανοτητα P(S=5, N=5|x) για x= 4: ειναι 0.5904900000\n",
            "Η πιθανοτητα P(S=5, N=5|x) για x= 5: ειναι 0.5129089355\n",
            "Η πιθανοτητα P(S=5, N=5|x) για x= 6: ειναι 0.4437053125\n",
            "Η πιθανοτητα P(S=5, N=5|x) για x= 7: ειναι 0.3821815723\n",
            "Η πιθανοτητα P(S=5, N=5|x) για x= 8: ειναι 0.3276800000\n",
            "Η πιθανοτητα P(S=5, N=5|x) για x= 9: ειναι 0.2795815527\n",
            "Η πιθανοτητα P(S=5, N=5|x) για x= 10: ειναι 0.2373046875\n",
            "Η πιθανοτητα P(S=5, N=5|x) για x= 11: ειναι 0.2003041895\n",
            "Η πιθανοτητα P(S=5, N=5|x) για x= 12: ειναι 0.1680700000\n",
            "Η πιθανοτητα P(S=5, N=5|x) για x= 13: ειναι 0.1401260449\n",
            "Η πιθανοτητα P(S=5, N=5|x) για x= 14: ειναι 0.1160290625\n",
            "Η πιθανοτητα P(S=5, N=5|x) για x= 15: ειναι 0.0953674316\n",
            "Η πιθανοτητα P(S=5, N=5|x) για x= 16: ειναι 0.0777600000\n",
            "Η πιθανοτητα P(S=5, N=5|x) για x= 17: ειναι 0.0628549121\n",
            "Η πιθανοτητα P(S=5, N=5|x) για x= 18: ειναι 0.0503284375\n",
            "Η πιθανοτητα P(S=5, N=5|x) για x= 19: ειναι 0.0398837988\n",
            "Η πιθανοτητα P(S=5, N=5|x) για x= 20: ειναι 0.0312500000\n",
            "Η πιθανοτητα P(S=5, N=5|x) για x= 21: ειναι 0.0241806543\n",
            "Η πιθανοτητα P(S=5, N=5|x) για x= 22: ειναι 0.0184528125\n",
            "Η πιθανοτητα P(S=5, N=5|x) για x= 23: ειναι 0.0138657910\n",
            "Η πιθανοτητα P(S=5, N=5|x) για x= 24: ειναι 0.0102400000\n",
            "Η πιθανοτητα P(S=5, N=5|x) για x= 25: ειναι 0.0074157715\n",
            "Η πιθανοτητα P(S=5, N=5|x) για x= 26: ειναι 0.0052521875\n",
            "Η πιθανοτητα P(S=5, N=5|x) για x= 27: ειναι 0.0036259082\n",
            "Η πιθανοτητα P(S=5, N=5|x) για x= 28: ειναι 0.0024300000\n",
            "Η πιθανοτητα P(S=5, N=5|x) για x= 29: ειναι 0.0015727637\n",
            "Η πιθανοτητα P(S=5, N=5|x) για x= 30: ειναι 0.0009765625\n",
            "Η πιθανοτητα P(S=5, N=5|x) για x= 31: ειναι 0.0005766504\n",
            "Η πιθανοτητα P(S=5, N=5|x) για x= 32: ειναι 0.0003200000\n",
            "Η πιθανοτητα P(S=5, N=5|x) για x= 33: ειναι 0.0001641309\n",
            "Η πιθανοτητα P(S=5, N=5|x) για x= 34: ειναι 0.0000759375\n",
            "Η πιθανοτητα P(S=5, N=5|x) για x= 35: ειναι 0.0000305176\n",
            "Η πιθανοτητα P(S=5, N=5|x) για x= 36: ειναι 0.0000100000\n",
            "Η πιθανοτητα P(S=5, N=5|x) για x= 37: ειναι 0.0000023730\n",
            "Η πιθανοτητα P(S=5, N=5|x) για x= 38: ειναι 0.0000003125\n",
            "Η πιθανοτητα P(S=5, N=5|x) για x= 39: ειναι 0.0000000098\n",
            "Η πιθανοτητα P(S=5, N=5|x) για x= 40: ειναι 0.0000000000\n"
          ]
        }
      ]
    },
    {
      "cell_type": "markdown",
      "source": [
        "(c) Compute the probability of 4 guesses out of 10 resulted in ”smaller” feedback. (Hint: ”from math\n",
        "import comb”)\n",
        "P(L = 4, N = 10|x) = ?. Write a simple function.\n"
      ],
      "metadata": {
        "id": "qa4uZJ7XBs0Z"
      }
    },
    {
      "cell_type": "code",
      "source": [
        "def P_S(x):\n",
        "    return (40 - x) / 40\n",
        "def P_G(x):\n",
        "    return (x - 1) / 40\n",
        "\n",
        "def Pc(x):\n",
        "    return comb(10, 4) * P_S(x) ** 4 * P_G(x) ** 6  #Pc = 10 ana 4 * P(S|X)^4*P(G|X)^6\n",
        "for x in range(1, 41):\n",
        "    print(f\"Η πιθανοτητα P(L=4, N=10|x) για x= {x}: ειναι {Pc(x):.10f}\")"
      ],
      "metadata": {
        "colab": {
          "base_uri": "https://localhost:8080/"
        },
        "collapsed": true,
        "id": "WZRpK0X1BzQR",
        "outputId": "3e80f536-652d-424d-839f-350e5ccd7ce8"
      },
      "execution_count": null,
      "outputs": [
        {
          "output_type": "stream",
          "name": "stdout",
          "text": [
            "Η πιθανοτητα P(L=4, N=10|x) για x= 1: ειναι 0.0000000000\n",
            "Η πιθανοτητα P(L=4, N=10|x) για x= 2: ειναι 0.0000000418\n",
            "Η πιθανοτητα P(L=4, N=10|x) για x= 3: ειναι 0.0000024022\n",
            "Η πιθανοτητα P(L=4, N=10|x) για x= 4: ειναι 0.0000245221\n",
            "Η πιθανοτητα P(L=4, N=10|x) για x= 5: ειναι 0.0001230981\n",
            "Η πιθανοτητα P(L=4, N=10|x) για x= 6: ειναι 0.0004181721\n",
            "Η πιθανοτητα P(L=4, N=10|x) για x= 7: ειναι 0.0011081094\n",
            "Η πιθανοτητα P(L=4, N=10|x) για x= 8: ειναι 0.0024706290\n",
            "Η πιθανοτητα P(L=4, N=10|x) για x= 9: ειναι 0.0048484853\n",
            "Η πιθανοτητα P(L=4, N=10|x) για x= 10: ειναι 0.0086210360\n",
            "Η πιθανοτητα P(L=4, N=10|x) για x= 11: ειναι 0.0141648302\n",
            "Η πιθανοτητα P(L=4, N=10|x) για x= 12: ειναι 0.0218075872\n",
            "Η πιθανοτητα P(L=4, N=10|x) για x= 13: ειναι 0.0317805870\n",
            "Η πιθανοτητα P(L=4, N=10|x) για x= 14: ειναι 0.0441746266\n",
            "Η πιθανοτητα P(L=4, N=10|x) για x= 15: ειναι 0.0589043856\n",
            "Η πιθανοτητα P(L=4, N=10|x) για x= 16: ειναι 0.0756853638\n",
            "Η πιθανοτητα P(L=4, N=10|x) για x= 17: ειναι 0.0940265760\n",
            "Η πιθανοτητα P(L=4, N=10|x) για x= 18: ειναι 0.1132409836\n",
            "Η πιθανοτητα P(L=4, N=10|x) για x= 19: ειναι 0.1324742871\n",
            "Η πιθανοτητα P(L=4, N=10|x) για x= 20: ειναι 0.1507512666\n",
            "Η πιθανοτητα P(L=4, N=10|x) για x= 21: ειναι 0.1670374146\n",
            "Η πιθανοτητα P(L=4, N=10|x) για x= 22: ειναι 0.1803122241\n",
            "Η πιθανοτητα P(L=4, N=10|x) για x= 23: ειναι 0.1896492598\n",
            "Η πιθανοτητα P(L=4, N=10|x) για x= 24: ειναι 0.1942971043\n",
            "Η πιθανοτητα P(L=4, N=10|x) για x= 25: ειναι 0.1937545312\n",
            "Η πιθανοτητα P(L=4, N=10|x) για x= 26: ειναι 0.1878328621\n",
            "Η πιθανοτητα P(L=4, N=10|x) για x= 27: ειναι 0.1766985064\n",
            "Η πιθανοτητα P(L=4, N=10|x) για x= 28: ειναι 0.1608892216\n",
            "Η πιθανοτητα P(L=4, N=10|x) για x= 29: ειναι 0.1412987468\n",
            "Η πιθανοτητα P(L=4, N=10|x) για x= 30: ειναι 0.1191262220\n",
            "Η πιθανοτητα P(L=4, N=10|x) για x= 31: ειναι 0.0957892885\n",
            "Η πιθανοτητα P(L=4, N=10|x) για x= 32: ειναι 0.0728030363\n",
            "Η πιθανοτητα P(L=4, N=10|x) για x= 33: ειναι 0.0516311040\n",
            "Η πιθανοτητα P(L=4, N=10|x) για x= 34: ειναι 0.0335203097\n",
            "Η πιθανοτητα P(L=4, N=10|x) για x= 35: ειναι 0.0193362789\n",
            "Η πιθανοτητα P(L=4, N=10|x) για x= 36: ειναι 0.0094247017\n",
            "Η πιθανοτητα P(L=4, N=10|x) για x= 37: ειναι 0.0035311763\n",
            "Η πιθανοτητα P(L=4, N=10|x) για x= 38: ειναι 0.0008221474\n",
            "Η πιθανοτητα P(L=4, N=10|x) για x= 39: ειναι 0.0000603005\n",
            "Η πιθανοτητα P(L=4, N=10|x) για x= 40: ειναι 0.0000000000\n"
          ]
        }
      ]
    },
    {
      "cell_type": "markdown",
      "source": [
        "(d) Using the above steps, compute the posterior probability distribution P(x|obser vations) for the boss’s\n",
        "chosen day-off number."
      ],
      "metadata": {
        "id": "V6rUwMDmCFty"
      }
    },
    {
      "cell_type": "code",
      "source": [
        "\n",
        "answers = ['S', 'S', 'S', 'G', 'S', 'G', 'G', 'S', 'G', 'G', 'S', 'S', 'G', 'S', 'S', 'G', 'G', 'S', 'S', 'S']\n",
        "def P_S(x):\n",
        "    return (40 - x) / 40\n",
        "\n",
        "def P_G(x):\n",
        "    return (x - 1) / 40\n",
        "\n",
        "\n",
        "def P_obs(x): #P(observation|x)\n",
        "    P_Sx = P_S(x)\n",
        "    P_Gx = P_G(x)\n",
        "\n",
        "    numS = answers.count('S') #posa S exei pei to boss\n",
        "    numG = answers.count('G') #posa G exei pei to boss\n",
        "\n",
        "    return (P_Sx ** numS) * (P_Gx ** numG)  #h pithanotita\n",
        "\n",
        "\n",
        "def paronomastis_function(): #o paronomastis sto klasma tis pithanothtas P(observation|x)P(x)/Σ P(obs|x)P(x)\n",
        "    total = 0\n",
        "    for x in range(1, 41):\n",
        "        total += P_obs(x) * (1 / 40)\n",
        "    return total\n",
        "\n",
        "\n",
        "def posterior_function(x, paronomastis):\n",
        "    P_obs_x = P_obs(x)\n",
        "    return (P_obs_x * (1 / 40)) / paronomastis\n",
        "\n",
        "\n",
        "paronomastis = paronomastis_function()\n",
        "\n",
        "posterior_probabilities = {}\n",
        "for x in range(1, 41):\n",
        "    posterior_probabilities[x] = posterior_function(x, paronomastis)\n",
        "\n",
        "\n",
        "for x in range(1, 41):\n",
        "    print(f\"Πιθανοτητα για x = {x}: {posterior_probabilities[x]:.10f}\")"
      ],
      "metadata": {
        "colab": {
          "base_uri": "https://localhost:8080/"
        },
        "collapsed": true,
        "id": "KIhyCEsJCJr6",
        "outputId": "50115dab-c966-4978-b588-d9da03f8e554"
      },
      "execution_count": null,
      "outputs": [
        {
          "output_type": "stream",
          "name": "stdout",
          "text": [
            "Πιθανοτητα για x = 1: 0.0000000000\n",
            "Πιθανοτητα για x = 2: 0.0000000093\n",
            "Πιθανοτητα για x = 3: 0.0000017250\n",
            "Πιθανοτητα για x = 4: 0.0000318222\n",
            "Πιθανοτητα για x = 5: 0.0002266868\n",
            "Πιθανοτητα για x = 6: 0.0009541941\n",
            "Πιθανοτητα για x = 7: 0.0028675233\n",
            "Πιθανοτητα για x = 8: 0.0068032078\n",
            "Πιθανοτητα για x = 9: 0.0135266390\n",
            "Πιθανοτητα για x = 10: 0.0234166524\n",
            "Πιθανοτητα για x = 11: 0.0362164311\n",
            "Πιθανοτητα για x = 12: 0.0509527389\n",
            "Πιθανοτητα για x = 13: 0.0660609500\n",
            "Πιθανοτητα για x = 14: 0.0796813476\n",
            "Πιθανοτητα για x = 15: 0.0900397055\n",
            "Πιθανοτητα για x = 16: 0.0958064282\n",
            "Πιθανοτητα για x = 17: 0.0963437552\n",
            "Πιθανοτητα για x = 18: 0.0917895451\n",
            "Πιθανοτητα για x = 19: 0.0829738523\n",
            "Πιθανοτητα για x = 20: 0.0712063020\n",
            "Πιθανοτητα για x = 21: 0.0579979780\n",
            "Πιθανοτητα για x = 22: 0.0447872189\n",
            "Πιθανοτητα για x = 23: 0.0327263959\n",
            "Πιθανοτητα για x = 24: 0.0225627565\n",
            "Πιθανοτητα για x = 25: 0.0146189008\n",
            "Πιθανοτητα για x = 26: 0.0088549512\n",
            "Πιθανοτητα για x = 27: 0.0049800842\n",
            "Πιθανοτητα για x = 28: 0.0025775954\n",
            "Πιθανοτητα για x = 29: 0.0012136855\n",
            "Πιθανοτητα για x = 30: 0.0005120515\n",
            "Πιθανοτητα για x = 31: 0.0001896749\n",
            "Πιθανοτητα για x = 32: 0.0000599933\n",
            "Πιθανοτητα για x = 33: 0.0000155778\n",
            "Πιθανοτητα για x = 34: 0.0000031337\n",
            "Πιθανοτητα για x = 35: 0.0000004463\n",
            "Πιθανοτητα για x = 36: 0.0000000387\n",
            "Πιθανοτητα για x = 37: 0.0000000015\n",
            "Πιθανοτητα για x = 38: 0.0000000000\n",
            "Πιθανοτητα για x = 39: 0.0000000000\n",
            "Πιθανοτητα για x = 40: 0.0000000000\n"
          ]
        }
      ]
    },
    {
      "cell_type": "markdown",
      "source": [
        "2. Plot the probability distribution of the boss’s chosen number after all evidence (guesses and feedback) has\n",
        "been observed. Use ”Boss answers”.\n"
      ],
      "metadata": {
        "id": "nLbPFo2MCTMX"
      }
    },
    {
      "cell_type": "code",
      "source": [
        "x_values = list(range(1, 41))\n",
        "y_values = [posterior_probabilities[x] for x in x_values]\n",
        "\n",
        "plt.figure(figsize=(10, 5))\n",
        "plt.plot(x_values, y_values, marker='o', linestyle='-', color='b')\n",
        "plt.title(\"Εκ των υστερων κατανομη πιθανοτητας για την ημερα ρεπο  αφεντικου\")\n",
        "plt.xlabel(\"αριθμος ημερας ρεπο (x)\")\n",
        "plt.ylabel(\"πιθανοτητα\")\n",
        "plt.grid(True)\n",
        "plt.show()"
      ],
      "metadata": {
        "colab": {
          "base_uri": "https://localhost:8080/",
          "height": 487
        },
        "collapsed": true,
        "id": "YLlVkZ_hCazT",
        "outputId": "7511bb7f-75cd-4e35-8349-292d2a437740"
      },
      "execution_count": null,
      "outputs": [
        {
          "output_type": "display_data",
          "data": {
            "text/plain": [
              "<Figure size 1000x500 with 1 Axes>"
            ],
            "image/png": "[encoded data removed]"
          },
          "metadata": {}
        }
      ]
    },
    {
      "cell_type": "markdown",
      "source": [
        "3. Determine the most probable day-off number for the boss."
      ],
      "metadata": {
        "id": "N3Yiey_CCgnI"
      }
    },
    {
      "cell_type": "code",
      "source": [
        "posterior_probabilities = {}\n",
        "for x in range(1, 41):\n",
        "    posterior_probabilities[x] = posterior_function(x, paronomastis)\n",
        "\n",
        "most_probable_day = max(posterior_probabilities, key=posterior_probabilities.get)\n",
        "print(f\"Η πιο πιθανη ημερας ρεπο για το αφεντικο είναι: {most_probable_day}\")\n"
      ],
      "metadata": {
        "colab": {
          "base_uri": "https://localhost:8080/"
        },
        "id": "5knxM5e7ClwW",
        "outputId": "1922333c-3ec2-4491-9d21-af6d84a4cd23"
      },
      "execution_count": null,
      "outputs": [
        {
          "output_type": "stream",
          "name": "stdout",
          "text": [
            "Η πιο πιθανη ημερας ρεπο για το αφεντικο είναι: 17\n"
          ]
        }
      ]
    }
  ]
}